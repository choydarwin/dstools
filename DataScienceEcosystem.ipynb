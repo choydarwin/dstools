{
 "cells": [
  {
   "cell_type": "markdown",
   "id": "b3b10064-18b0-4249-926f-8ae8746ade48",
   "metadata": {},
   "source": [
    "# Data Science Tools and Ecosystem"
   ]
  },
  {
   "cell_type": "markdown",
   "id": "38c6b251-a3e5-41ba-9650-821d136b3ffa",
   "metadata": {},
   "source": [
    "In this notebook, Data Science Tools and Ecosystem are summarized. \n",
    "Is the final assignment of the course. "
   ]
  },
  {
   "cell_type": "markdown",
   "id": "6948891d-ccff-4181-9342-39f724800965",
   "metadata": {},
   "source": [
    "**Objectives:**\n",
    "\n",
    "- List popular languages for Data Science\n",
    "- Identify commonly used libraries in Data Science\n",
    "- Create and evaluate simple arithmetic expressions\n"
   ]
  },
  {
   "cell_type": "markdown",
   "id": "57390404-d167-411d-ae82-e133e7d6bfc3",
   "metadata": {},
   "source": [
    "Some of the popular languages that Data Scientist use are:\n",
    "1. Python\n",
    "1. R\n",
    "2. Julia"
   ]
  },
  {
   "cell_type": "markdown",
   "id": "8387a5b8-5cbd-4689-b401-3f1bbd5c1aa4",
   "metadata": {},
   "source": [
    "Some of the commonly used libraries used by Data Scientist are:\n",
    "1. Pandas\n",
    "2. NumPy\n",
    "3. Matplotlib\n"
   ]
  },
  {
   "cell_type": "markdown",
   "id": "a90f37b3-415f-4b0a-b8d0-2ad87257ba4d",
   "metadata": {},
   "source": [
    "| Data Science Tools        |\n",
    "|---------------------------|\n",
    "| Jupyter Notebook          |\n",
    "| RStudio                   |\n",
    "| Google Colab           |\n"
   ]
  },
  {
   "cell_type": "markdown",
   "id": "038c3cc1-65f7-466a-b348-343ed89e179c",
   "metadata": {},
   "source": [
    "### Below are a few examples of evaluating arithmetic expressions in Python"
   ]
  },
  {
   "cell_type": "code",
   "execution_count": 8,
   "id": "f3958c8d-f18f-412f-a293-2f320c06548b",
   "metadata": {},
   "outputs": [
    {
     "data": {
      "text/plain": [
       "17"
      ]
     },
     "execution_count": 8,
     "metadata": {},
     "output_type": "execute_result"
    }
   ],
   "source": [
    "# This is a simple arithmetic expression to multiply then add integers\n",
    "(3*4)+5\n"
   ]
  },
  {
   "cell_type": "code",
   "execution_count": 10,
   "id": "902c790e-6ffe-4c1c-8d39-a0baf002fdc2",
   "metadata": {},
   "outputs": [
    {
     "data": {
      "text/plain": [
       "3.3333333333333335"
      ]
     },
     "execution_count": 10,
     "metadata": {},
     "output_type": "execute_result"
    }
   ],
   "source": [
    "# This will convert 200 minutes to hours by dividing by 60\n",
    "200 / 60\n"
   ]
  },
  {
   "cell_type": "markdown",
   "id": "f18667b8-9b7b-4aa3-ac46-6babbd9ab146",
   "metadata": {},
   "source": [
    "## Author\n",
    "\n",
    "Darwin José Choy Patzán\n"
   ]
  },
  {
   "cell_type": "code",
   "execution_count": null,
   "id": "0c3b36a5-4710-4738-a101-3f7570c2dfbf",
   "metadata": {},
   "outputs": [],
   "source": []
  }
 ],
 "metadata": {
  "kernelspec": {
   "display_name": "Python 3 (ipykernel)",
   "language": "python",
   "name": "python3"
  },
  "language_info": {
   "codemirror_mode": {
    "name": "ipython",
    "version": 3
   },
   "file_extension": ".py",
   "mimetype": "text/x-python",
   "name": "python",
   "nbconvert_exporter": "python",
   "pygments_lexer": "ipython3",
   "version": "3.12.4"
  }
 },
 "nbformat": 4,
 "nbformat_minor": 5
}
